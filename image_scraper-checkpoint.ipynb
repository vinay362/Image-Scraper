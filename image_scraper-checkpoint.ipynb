{
 "cells": [
  {
   "cell_type": "code",
   "execution_count": 5,
   "id": "7fada76f",
   "metadata": {},
   "outputs": [],
   "source": [
    "\n",
    "import requests\n",
    "import logging\n",
    "import os\n",
    "from bs4 import BeautifulSoup\n",
    "from urllib.request import urlopen"
   ]
  },
  {
   "cell_type": "code",
   "execution_count": 8,
   "id": "295f4233",
   "metadata": {},
   "outputs": [],
   "source": [
    "save_dir=\"images/\"\n",
    "if not os.path.exists(save_dir):\n",
    "    os.makedirs(save_dir)"
   ]
  },
  {
   "cell_type": "code",
   "execution_count": 40,
   "id": "6a92741d",
   "metadata": {},
   "outputs": [],
   "source": [
    "query=\"virat kholi\"\n",
    "#url=https://www.google.com/search?q=query&tbm=isch&ved=2ahUKEwj11oram9SBAxUa5TgGHUngCQ0Q2-cCegQIABAA&oq=elon&gs_lcp=CgNpbWcQAzIECCMQJzIICAAQgAQQsQMyCAgAEIAEELEDMggIABCABBCxAzIICAAQgAQQsQMyCAgAEIAEELEDMggIABCABBCxAzIICAAQgAQQsQMyCAgAEIAEELEDMggIABCABBCxAzoHCAAQGBCABDoJCAAQGBCABBAKOgUIABCABFCNBFiQDWChD2gAcAB4AIABoAGIAa4EkgEDMC40mAEAoAEBqgELZ3dzLXdpei1pbWfAAQE&sclient=img&ei=-RAZZbX2HJrK4-EPycCnaA&bih=563&biw=1242"
   ]
  },
  {
   "cell_type": "code",
   "execution_count": 41,
   "id": "f6d85206",
   "metadata": {},
   "outputs": [],
   "source": [
    "response=requests.get(f\"https://www.google.com/search?q={query}&tbm=isch&ved=2ahUKEwj11oram9SBAxUa5TgGHUngCQ0Q2-cCegQIABAA&oq=elon&gs_lcp=CgNpbWcQAzIECCMQJzIICAAQgAQQsQMyCAgAEIAEELEDMggIABCABBCxAzIICAAQgAQQsQMyCAgAEIAEELEDMggIABCABBCxAzIICAAQgAQQsQMyCAgAEIAEELEDMggIABCABBCxAzoHCAAQGBCABDoJCAAQGBCABBAKOgUIABCABFCNBFiQDWChD2gAcAB4AIABoAGIAa4EkgEDMC40mAEAoAEBqgELZ3dzLXdpei1pbWfAAQE&sclient=img&ei=-RAZZbX2HJrK4-EPycCnaA&bih=563&biw=1242\")"
   ]
  },
  {
   "cell_type": "code",
   "execution_count": 42,
   "id": "3f86b5a3",
   "metadata": {},
   "outputs": [
    {
     "data": {
      "text/plain": [
       "<Response [200]>"
      ]
     },
     "execution_count": 42,
     "metadata": {},
     "output_type": "execute_result"
    }
   ],
   "source": [
    "response\n"
   ]
  },
  {
   "cell_type": "code",
   "execution_count": 43,
   "id": "9c7dc97a",
   "metadata": {
    "scrolled": true
   },
   "outputs": [],
   "source": [
    "soup=BeautifulSoup(response.content,\"html.parser\")"
   ]
  },
  {
   "cell_type": "code",
   "execution_count": 44,
   "id": "93aacfcd",
   "metadata": {},
   "outputs": [],
   "source": [
    "image=soup.find_all(\"img\")\n",
    "del image[0]"
   ]
  },
  {
   "cell_type": "code",
   "execution_count": 45,
   "id": "b6ae7aa4",
   "metadata": {},
   "outputs": [
    {
     "data": {
      "text/plain": [
       "[<img alt=\"\" class=\"DS1iW\" src=\"https://encrypted-tbn0.gstatic.com/images?q=tbn:ANd9GcSApOD8cC7Jh33c0VqbcFkcmx0og9wr1DYsD50a8Tp3p-0I33M_SuuLXA0Kizk&amp;s\"/>,\n",
       " <img alt=\"\" class=\"DS1iW\" src=\"https://encrypted-tbn0.gstatic.com/images?q=tbn:ANd9GcTV29F6XWEW0jUbywDqsL5iaNu3TAYEjPSaBq3fqSzzl_zq5MAskZPZ17XN_w&amp;s\"/>,\n",
       " <img alt=\"\" class=\"DS1iW\" src=\"https://encrypted-tbn0.gstatic.com/images?q=tbn:ANd9GcQJVVxiwiLsJ-dKaxKjQicRsSZGw4Z7MWoTxFqRYG1RevK6xcYmBDcuXRM-DFM&amp;s\"/>,\n",
       " <img alt=\"\" class=\"DS1iW\" src=\"https://encrypted-tbn0.gstatic.com/images?q=tbn:ANd9GcQ-S2QCLEOgaWavVlirDc3W7K8QyGpC2ILF2TzXs4Dv3FBNJ10PAtyqjlwFgd8&amp;s\"/>,\n",
       " <img alt=\"\" class=\"DS1iW\" src=\"https://encrypted-tbn0.gstatic.com/images?q=tbn:ANd9GcR6OnSs5mDy3uhCmj7_yrFhJP5OSbo-vKgwUNDfNqXyR4sXaxeEN23wzL1lqg&amp;s\"/>,\n",
       " <img alt=\"\" class=\"DS1iW\" src=\"https://encrypted-tbn0.gstatic.com/images?q=tbn:ANd9GcQXhRozPeN_ofFzgMvQcHZvcplv3EpOrLtmrSnBG88kwoJo8RFn0Ev3aLykTYA&amp;s\"/>,\n",
       " <img alt=\"\" class=\"DS1iW\" src=\"https://encrypted-tbn0.gstatic.com/images?q=tbn:ANd9GcSgAUWVcBFWmhyJn2iuYfNHcoYlBrFgYaKw_R20FGqAzoxS8-icRSlh2_TJLg&amp;s\"/>,\n",
       " <img alt=\"\" class=\"DS1iW\" src=\"https://encrypted-tbn0.gstatic.com/images?q=tbn:ANd9GcSZjOMzxyWvIw7Gzzk_T57acVMzxrPChIUZV4mqCF5ClrLdPqxEZMS6vCETMg&amp;s\"/>,\n",
       " <img alt=\"\" class=\"DS1iW\" src=\"https://encrypted-tbn0.gstatic.com/images?q=tbn:ANd9GcQjN3o1k7S3Qtlo6YyMkXLv6D4wZ-_tWt2keLcq-w8IlpSsMHVZCa3elriucYE&amp;s\"/>,\n",
       " <img alt=\"\" class=\"DS1iW\" src=\"https://encrypted-tbn0.gstatic.com/images?q=tbn:ANd9GcSsTQE9kUgA7CpXnlWeWO7nMT28THW_0zLfeLBhDC57BXHpZl6RjtWlXvCDD2M&amp;s\"/>,\n",
       " <img alt=\"\" class=\"DS1iW\" src=\"https://encrypted-tbn0.gstatic.com/images?q=tbn:ANd9GcRHlQzK8FbwK4m2XdRphH9iGnQ03FnUFAK76rVzb2YF6De4cXrK8Jt5j9RZq9k&amp;s\"/>,\n",
       " <img alt=\"\" class=\"DS1iW\" src=\"https://encrypted-tbn0.gstatic.com/images?q=tbn:ANd9GcSw_ORguYyTfAG9NiUEJHJtWQSdrLrx6qRag9lM7W4jqjQqgPsEM_qq61KqVJw&amp;s\"/>,\n",
       " <img alt=\"\" class=\"DS1iW\" src=\"https://encrypted-tbn0.gstatic.com/images?q=tbn:ANd9GcTf7a8odPScn8fJJT96danRN86XEKBueR_Wrh-05LQQ2RXxMnBSXInJz2NPdjc&amp;s\"/>,\n",
       " <img alt=\"\" class=\"DS1iW\" src=\"https://encrypted-tbn0.gstatic.com/images?q=tbn:ANd9GcToQkA000SGH0BbRu9tEYVZMwihmQ3AovCFglAd1xfZStnrX_Bg4c_GZ6g47Rg&amp;s\"/>,\n",
       " <img alt=\"\" class=\"DS1iW\" src=\"https://encrypted-tbn0.gstatic.com/images?q=tbn:ANd9GcSyFY7JtQfDVxxLlMuiBU2opEbfr-UdAoF3LUu-NmoZFJWoF5MJmJYLiWuOVA&amp;s\"/>,\n",
       " <img alt=\"\" class=\"DS1iW\" src=\"https://encrypted-tbn0.gstatic.com/images?q=tbn:ANd9GcT31MU-l5iezqCLOPE2jeiBB0geQsn8njIF0T290gdxybDBKMJOC5V1jM9QAg&amp;s\"/>,\n",
       " <img alt=\"\" class=\"DS1iW\" src=\"https://encrypted-tbn0.gstatic.com/images?q=tbn:ANd9GcS8KTiPsdIdv6tCZuf-oRwHoP4zesJHEmjSw7cAb2DxIRKzl8eI7bxEupbJGQI&amp;s\"/>,\n",
       " <img alt=\"\" class=\"DS1iW\" src=\"https://encrypted-tbn0.gstatic.com/images?q=tbn:ANd9GcS3R1aGEGS7JDq5Bx1f4txDZr6LmVWA98e_JEj34pk6B2OJXijenZeG_DdK&amp;s\"/>,\n",
       " <img alt=\"\" class=\"DS1iW\" src=\"https://encrypted-tbn0.gstatic.com/images?q=tbn:ANd9GcT8x89pLXeMNlm4-Nrjk8kFn2NfKoBA8NLYSyJKnbM6EG-2EewQgiKttVsWrEE&amp;s\"/>,\n",
       " <img alt=\"\" class=\"DS1iW\" src=\"https://encrypted-tbn0.gstatic.com/images?q=tbn:ANd9GcRgTE2N-_sNdYh3U67ejUDU8yHTn60PET41XqJ5_f7aFG7046QsagxZDHL41kA&amp;s\"/>]"
      ]
     },
     "execution_count": 45,
     "metadata": {},
     "output_type": "execute_result"
    }
   ],
   "source": [
    "image"
   ]
  },
  {
   "cell_type": "code",
   "execution_count": 46,
   "id": "b3874ab8",
   "metadata": {},
   "outputs": [
    {
     "data": {
      "text/plain": [
       "20"
      ]
     },
     "execution_count": 46,
     "metadata": {},
     "output_type": "execute_result"
    }
   ],
   "source": [
    "len(image)\n"
   ]
  },
  {
   "cell_type": "code",
   "execution_count": 47,
   "id": "224b284e",
   "metadata": {},
   "outputs": [],
   "source": [
    "save_dir=\"images/\"\n",
    "if not os.path.exists(save_dir):\n",
    "    os.makedirs(save_dir)"
   ]
  },
  {
   "cell_type": "code",
   "execution_count": 48,
   "id": "32d07897",
   "metadata": {},
   "outputs": [],
   "source": [
    "for i in image:\n",
    "    image_url=(i['src'])\n",
    "    image_data=requests.get(image_url).content\n",
    "    with open(os.path.join(save_dir,f\"{query}_{image.index(i)}.jpg\"),\"wb\")as f:\n",
    "        f.write(image_data)"
   ]
  },
  {
   "cell_type": "code",
   "execution_count": null,
   "id": "0f82be59",
   "metadata": {},
   "outputs": [],
   "source": []
  },
  {
   "cell_type": "code",
   "execution_count": null,
   "id": "9d091532",
   "metadata": {},
   "outputs": [],
   "source": []
  }
 ],
 "metadata": {
  "kernelspec": {
   "display_name": "Python 3 (ipykernel)",
   "language": "python",
   "name": "python3"
  },
  "language_info": {
   "codemirror_mode": {
    "name": "ipython",
    "version": 3
   },
   "file_extension": ".py",
   "mimetype": "text/x-python",
   "name": "python",
   "nbconvert_exporter": "python",
   "pygments_lexer": "ipython3",
   "version": "3.11.4"
  }
 },
 "nbformat": 4,
 "nbformat_minor": 5
}
